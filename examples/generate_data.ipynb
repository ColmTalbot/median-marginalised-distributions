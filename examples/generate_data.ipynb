{
 "cells": [
  {
   "cell_type": "markdown",
   "metadata": {},
   "source": [
    "# Generate the data in this package\n",
    "\n",
    "Evaluate the integrals in (22) and (24) of [arXiv:2006.05292] for a range of values of `n_average`."
   ]
  },
  {
   "cell_type": "code",
   "execution_count": null,
   "metadata": {},
   "outputs": [],
   "source": [
    "%pylab inline\n",
    "\n",
    "import pandas as pd\n",
    "from tqdm import tqdm\n",
    "\n",
    "from median_marginalized.utils import (\n",
    "    likelihood_integrand, whitening_integrand, recursively_integrate\n",
    ")"
   ]
  },
  {
   "cell_type": "code",
   "execution_count": null,
   "metadata": {},
   "outputs": [],
   "source": [
    "mpl.rcParams[\"font.family\"] = \"serif\"\n",
    "mpl.rcParams[\"font.serif\"] = \"Computer Modern Roman\"\n",
    "mpl.rcParams[\"font.size\"] = 20\n",
    "mpl.rcParams[\"text.usetex\"] = True\n",
    "mpl.rcParams[\"grid.alpha\"] = 0\n",
    "mpl.rcParams['text.latex.preamble'] = r'\\newcommand{\\mathdefault}[1][]{}'"
   ]
  },
  {
   "cell_type": "code",
   "execution_count": null,
   "metadata": {},
   "outputs": [],
   "source": [
    "n_averages = np.arange(1, 128, 2)\n",
    "\n",
    "all_whitening = pd.DataFrame()\n",
    "all_likelihood = pd.DataFrame()\n",
    "\n",
    "_x_values = np.concatenate([np.array([0]), np.logspace(-5, 2, 10000)])\n",
    "\n",
    "all_whitening[\"x\"] = _x_values\n",
    "all_likelihood[\"x\"] = _x_values ** 2\n",
    "\n",
    "for integrand, label in zip(\n",
    "    [likelihood_integrand, whitening_integrand], [\"likelihood\", \"whitening\"]\n",
    "):\n",
    "\n",
    "    _y_values = np.log(np.array([\n",
    "        np.array([\n",
    "            recursively_integrate(integrand, xx, int(n_average), 1)\n",
    "            for n_average in n_averages\n",
    "        ])\n",
    "        for xx in tqdm(_x_values)\n",
    "    ])).T\n",
    "\n",
    "    for y_values, n_average in zip(_y_values, n_averages):\n",
    "        if label == \"likelihood\":\n",
    "            y_values -= np.log(np.trapz(np.exp(y_values), _x_values ** 2))\n",
    "            all_likelihood[n_average] = y_values\n",
    "        else:\n",
    "            y_values -= np.log(np.trapz(np.exp(y_values), _x_values)) + np.log(2)\n",
    "            all_whitening[n_average] = y_values\n",
    "\n",
    "    for ii in range(len(_y_values)):\n",
    "        plt.plot(_x_values ** 2, _y_values[ii], color=f\"C{ii}\")\n",
    "    ax = plt.gca()\n",
    "    ax.ticklabel_format(style='plain', useOffset=False)\n",
    "    plt.xlim(0, max(_x_values ** 2))\n",
    "    plt.show()\n",
    "    plt.close()\n",
    "\n",
    "    for ii in range(len(_y_values)):\n",
    "        plt.plot(_x_values ** 2, _y_values[ii], color=f\"C{ii}\")\n",
    "    plt.xlim(0, 20)\n",
    "    plt.ylim(-10, 0)\n",
    "    ax = plt.gca()\n",
    "    ax.ticklabel_format(style='plain', useOffset=False)\n",
    "    plt.show()\n",
    "    plt.close()\n",
    "\n",
    "all_whitening.to_csv(\"whitening.dat\", sep=\"\\t\", index=False)\n",
    "all_likelihood.to_csv(\"likelihood.dat\", sep=\"\\t\", index=False)"
   ]
  }
 ],
 "metadata": {
  "kernelspec": {
   "display_name": "dev",
   "language": "python",
   "name": "dev"
  },
  "language_info": {
   "codemirror_mode": {
    "name": "ipython",
    "version": 3
   },
   "file_extension": ".py",
   "mimetype": "text/x-python",
   "name": "python",
   "nbconvert_exporter": "python",
   "pygments_lexer": "ipython3",
   "version": "3.7.6"
  }
 },
 "nbformat": 4,
 "nbformat_minor": 4
}
