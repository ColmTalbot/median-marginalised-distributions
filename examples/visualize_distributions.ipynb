{
 "cells": [
  {
   "cell_type": "markdown",
   "metadata": {},
   "source": [
    "# Visualize the median-marginalized distributions\n",
    "\n",
    "This will reproduce Figure 1 of [arXiv:2006.05292](https://arxiv.org/abs/2006.05292)"
   ]
  },
  {
   "cell_type": "code",
   "execution_count": null,
   "metadata": {},
   "outputs": [],
   "source": [
    "%pylab inline\n",
    "\n",
    "from median_marginalized.distributions import (\n",
    "    median_marginalised, median_marginalised_likelihood\n",
    ")"
   ]
  },
  {
   "cell_type": "code",
   "execution_count": null,
   "metadata": {},
   "outputs": [],
   "source": [
    "mpl.rcParams[\"font.family\"] = \"serif\"\n",
    "mpl.rcParams[\"font.serif\"] = \"Computer Modern Roman\"\n",
    "mpl.rcParams[\"font.size\"] = 20\n",
    "mpl.rcParams[\"text.usetex\"] = True\n",
    "mpl.rcParams[\"grid.alpha\"] = 0\n",
    "mpl.rcParams['text.latex.preamble'] = r'\\newcommand{\\mathdefault}[1][]{}'"
   ]
  },
  {
   "cell_type": "code",
   "execution_count": null,
   "metadata": {},
   "outputs": [],
   "source": [
    "plt.figure(figsize=(8, 5))\n",
    "for ii in np.arange(1, 8):\n",
    "    n_average = 2 ** ii - 1\n",
    "    plt.plot(\n",
    "        np.linspace(-10, 10, 1000),\n",
    "        median_marginalised(n_average=n_average).logpdf(np.linspace(-10, 10, 1000)),\n",
    "        color=f\"C{ii - 1}\", label=n_average\n",
    "    )\n",
    "plt.plot(\n",
    "    np.linspace(-10, 10, 1000), norm(0, 1).logpdf(np.linspace(-10, 10, 1000)),\n",
    "    color=\"k\", linestyle=\"--\", label=\"$\\\\infty$\"\n",
    ")\n",
    "plt.xlabel(\"$\\\\tilde{\\\\nu}$\")\n",
    "plt.ylabel(\"$p(\\\\tilde{\\\\nu}$)\")\n",
    "plt.xlim(-5, 5)\n",
    "plt.ylim(-12, 0)\n",
    "plt.legend(loc=\"best\", ncol=2)\n",
    "plt.show()\n",
    "plt.close()\n",
    "\n",
    "plt.figure(figsize=(8, 5))\n",
    "for ii in np.arange(1, 8):\n",
    "    n_average = 2 ** ii - 1\n",
    "    plt.plot(\n",
    "        np.linspace(0, 100, 1000),\n",
    "        median_marginalised_likelihood(n_average=n_average).logpdf(np.linspace(0, 100, 1000)),\n",
    "        color=f\"C{ii - 1}\", label=n_average\n",
    "    )\n",
    "plt.plot(\n",
    "    data[\"x\"] ** 2, - np.abs(data[\"x\"]) ** 2 / 2 - np.log(2),\n",
    "    color=\"k\", linestyle=\"--\", label=\"$\\\\infty$\"\n",
    ")\n",
    "plt.xlabel(\"$|\\\\tilde{\\\\nu}|^2$\")\n",
    "plt.ylabel(\"$\\\\mathcal{L}(\\\\tilde{\\\\nu}$)\")\n",
    "plt.xlim(0, 25)\n",
    "plt.ylim(-12, 0)\n",
    "plt.legend(loc=\"best\", ncol=2)\n",
    "plt.show()\n",
    "plt.close()"
   ]
  }
 ],
 "metadata": {
  "kernelspec": {
   "display_name": "dev",
   "language": "python",
   "name": "dev"
  },
  "language_info": {
   "codemirror_mode": {
    "name": "ipython",
    "version": 3
   },
   "file_extension": ".py",
   "mimetype": "text/x-python",
   "name": "python",
   "nbconvert_exporter": "python",
   "pygments_lexer": "ipython3",
   "version": "3.7.6"
  }
 },
 "nbformat": 4,
 "nbformat_minor": 4
}
